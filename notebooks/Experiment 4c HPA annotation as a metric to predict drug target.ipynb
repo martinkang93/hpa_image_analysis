{
 "cells": [
  {
   "cell_type": "code",
   "execution_count": 1,
   "metadata": {},
   "outputs": [
    {
     "data": {
      "text/html": [
       "<div>\n",
       "<style scoped>\n",
       "    .dataframe tbody tr th:only-of-type {\n",
       "        vertical-align: middle;\n",
       "    }\n",
       "\n",
       "    .dataframe tbody tr th {\n",
       "        vertical-align: top;\n",
       "    }\n",
       "\n",
       "    .dataframe thead th {\n",
       "        text-align: right;\n",
       "    }\n",
       "</style>\n",
       "<table border=\"1\" class=\"dataframe\">\n",
       "  <thead>\n",
       "    <tr style=\"text-align: right;\">\n",
       "      <th></th>\n",
       "      <th>Unnamed: 0</th>\n",
       "      <th>antibody</th>\n",
       "      <th>antibody_hpa_literature_concordance</th>\n",
       "      <th>antibody_icc_if_verification</th>\n",
       "      <th>antibody_ihc_verification</th>\n",
       "      <th>antibody_proteinarray_verification</th>\n",
       "      <th>antibody_westernblot_verification</th>\n",
       "      <th>cell_type</th>\n",
       "      <th>disease_type</th>\n",
       "      <th>gene</th>\n",
       "      <th>healthy_status</th>\n",
       "      <th>hpa_patientID</th>\n",
       "      <th>hpa_tissue_description_list</th>\n",
       "      <th>intensity</th>\n",
       "      <th>organ</th>\n",
       "      <th>quantity</th>\n",
       "      <th>s3_aws_urls</th>\n",
       "      <th>snomedCode_List</th>\n",
       "      <th>staining</th>\n",
       "      <th>subcellular_location</th>\n",
       "    </tr>\n",
       "  </thead>\n",
       "  <tbody>\n",
       "    <tr>\n",
       "      <th>0</th>\n",
       "      <td>662</td>\n",
       "      <td>HPA037779</td>\n",
       "      <td>Consistent with gene/protein characterization ...</td>\n",
       "      <td>NaN</td>\n",
       "      <td>enhanced</td>\n",
       "      <td>approved</td>\n",
       "      <td>supported</td>\n",
       "      <td>NaN</td>\n",
       "      <td>colorectal cancer</td>\n",
       "      <td>A1CF</td>\n",
       "      <td>False</td>\n",
       "      <td>1811</td>\n",
       "      <td>['Adenocarcinoma, NOS', 'Colon', 'Adenocarcino...</td>\n",
       "      <td>Weak</td>\n",
       "      <td>colon</td>\n",
       "      <td>NaN</td>\n",
       "      <td>https://krzysztof-images.s3.amazonaws.com/hpa_...</td>\n",
       "      <td>NaN</td>\n",
       "      <td>Low</td>\n",
       "      <td>cytoplasmic/membranous,nuclear</td>\n",
       "    </tr>\n",
       "    <tr>\n",
       "      <th>1</th>\n",
       "      <td>663</td>\n",
       "      <td>HPA037779</td>\n",
       "      <td>Consistent with gene/protein characterization ...</td>\n",
       "      <td>NaN</td>\n",
       "      <td>enhanced</td>\n",
       "      <td>approved</td>\n",
       "      <td>supported</td>\n",
       "      <td>NaN</td>\n",
       "      <td>colorectal cancer</td>\n",
       "      <td>A1CF</td>\n",
       "      <td>False</td>\n",
       "      <td>1898</td>\n",
       "      <td>['Adenocarcinoma, NOS', 'Colon', 'Adenocarcino...</td>\n",
       "      <td>Negative</td>\n",
       "      <td>colon</td>\n",
       "      <td>NaN</td>\n",
       "      <td>https://krzysztof-images.s3.amazonaws.com/hpa_...</td>\n",
       "      <td>NaN</td>\n",
       "      <td>Not detected</td>\n",
       "      <td>none</td>\n",
       "    </tr>\n",
       "    <tr>\n",
       "      <th>2</th>\n",
       "      <td>664</td>\n",
       "      <td>HPA037779</td>\n",
       "      <td>Consistent with gene/protein characterization ...</td>\n",
       "      <td>NaN</td>\n",
       "      <td>enhanced</td>\n",
       "      <td>approved</td>\n",
       "      <td>supported</td>\n",
       "      <td>NaN</td>\n",
       "      <td>colorectal cancer</td>\n",
       "      <td>A1CF</td>\n",
       "      <td>False</td>\n",
       "      <td>2616</td>\n",
       "      <td>['Adenocarcinoma, NOS', 'Colon']</td>\n",
       "      <td>Negative</td>\n",
       "      <td>colon</td>\n",
       "      <td>NaN</td>\n",
       "      <td>https://krzysztof-images.s3.amazonaws.com/hpa_...</td>\n",
       "      <td>NaN</td>\n",
       "      <td>Not detected</td>\n",
       "      <td>none</td>\n",
       "    </tr>\n",
       "    <tr>\n",
       "      <th>3</th>\n",
       "      <td>665</td>\n",
       "      <td>HPA037779</td>\n",
       "      <td>Consistent with gene/protein characterization ...</td>\n",
       "      <td>NaN</td>\n",
       "      <td>enhanced</td>\n",
       "      <td>approved</td>\n",
       "      <td>supported</td>\n",
       "      <td>NaN</td>\n",
       "      <td>colorectal cancer</td>\n",
       "      <td>A1CF</td>\n",
       "      <td>False</td>\n",
       "      <td>2931</td>\n",
       "      <td>['Adenocarcinoma, NOS', 'Colon', 'Adenocarcino...</td>\n",
       "      <td>Negative</td>\n",
       "      <td>colon</td>\n",
       "      <td>NaN</td>\n",
       "      <td>https://krzysztof-images.s3.amazonaws.com/hpa_...</td>\n",
       "      <td>NaN</td>\n",
       "      <td>Not detected</td>\n",
       "      <td>none</td>\n",
       "    </tr>\n",
       "    <tr>\n",
       "      <th>4</th>\n",
       "      <td>666</td>\n",
       "      <td>HPA037779</td>\n",
       "      <td>Consistent with gene/protein characterization ...</td>\n",
       "      <td>NaN</td>\n",
       "      <td>enhanced</td>\n",
       "      <td>approved</td>\n",
       "      <td>supported</td>\n",
       "      <td>NaN</td>\n",
       "      <td>colorectal cancer</td>\n",
       "      <td>A1CF</td>\n",
       "      <td>False</td>\n",
       "      <td>4089</td>\n",
       "      <td>['Adenocarcinoma, NOS', 'Colon']</td>\n",
       "      <td>Negative</td>\n",
       "      <td>colon</td>\n",
       "      <td>NaN</td>\n",
       "      <td>https://krzysztof-images.s3.amazonaws.com/hpa_...</td>\n",
       "      <td>NaN</td>\n",
       "      <td>Not detected</td>\n",
       "      <td>none</td>\n",
       "    </tr>\n",
       "  </tbody>\n",
       "</table>\n",
       "</div>"
      ],
      "text/plain": [
       "   Unnamed: 0   antibody                antibody_hpa_literature_concordance  \\\n",
       "0         662  HPA037779  Consistent with gene/protein characterization ...   \n",
       "1         663  HPA037779  Consistent with gene/protein characterization ...   \n",
       "2         664  HPA037779  Consistent with gene/protein characterization ...   \n",
       "3         665  HPA037779  Consistent with gene/protein characterization ...   \n",
       "4         666  HPA037779  Consistent with gene/protein characterization ...   \n",
       "\n",
       "  antibody_icc_if_verification antibody_ihc_verification  \\\n",
       "0                          NaN                  enhanced   \n",
       "1                          NaN                  enhanced   \n",
       "2                          NaN                  enhanced   \n",
       "3                          NaN                  enhanced   \n",
       "4                          NaN                  enhanced   \n",
       "\n",
       "  antibody_proteinarray_verification antibody_westernblot_verification  \\\n",
       "0                           approved                         supported   \n",
       "1                           approved                         supported   \n",
       "2                           approved                         supported   \n",
       "3                           approved                         supported   \n",
       "4                           approved                         supported   \n",
       "\n",
       "  cell_type       disease_type  gene  healthy_status  hpa_patientID  \\\n",
       "0       NaN  colorectal cancer  A1CF           False           1811   \n",
       "1       NaN  colorectal cancer  A1CF           False           1898   \n",
       "2       NaN  colorectal cancer  A1CF           False           2616   \n",
       "3       NaN  colorectal cancer  A1CF           False           2931   \n",
       "4       NaN  colorectal cancer  A1CF           False           4089   \n",
       "\n",
       "                         hpa_tissue_description_list intensity  organ  \\\n",
       "0  ['Adenocarcinoma, NOS', 'Colon', 'Adenocarcino...      Weak  colon   \n",
       "1  ['Adenocarcinoma, NOS', 'Colon', 'Adenocarcino...  Negative  colon   \n",
       "2                   ['Adenocarcinoma, NOS', 'Colon']  Negative  colon   \n",
       "3  ['Adenocarcinoma, NOS', 'Colon', 'Adenocarcino...  Negative  colon   \n",
       "4                   ['Adenocarcinoma, NOS', 'Colon']  Negative  colon   \n",
       "\n",
       "  quantity                                        s3_aws_urls snomedCode_List  \\\n",
       "0      NaN  https://krzysztof-images.s3.amazonaws.com/hpa_...             NaN   \n",
       "1      NaN  https://krzysztof-images.s3.amazonaws.com/hpa_...             NaN   \n",
       "2      NaN  https://krzysztof-images.s3.amazonaws.com/hpa_...             NaN   \n",
       "3      NaN  https://krzysztof-images.s3.amazonaws.com/hpa_...             NaN   \n",
       "4      NaN  https://krzysztof-images.s3.amazonaws.com/hpa_...             NaN   \n",
       "\n",
       "       staining            subcellular_location  \n",
       "0           Low  cytoplasmic/membranous,nuclear  \n",
       "1  Not detected                            none  \n",
       "2  Not detected                            none  \n",
       "3  Not detected                            none  \n",
       "4  Not detected                            none  "
      ]
     },
     "execution_count": 1,
     "metadata": {},
     "output_type": "execute_result"
    }
   ],
   "source": [
    "import pandas as pd\n",
    "\n",
    "hpa_df = pd.read_csv('/home/martin/projects/hpa_image_analysis/data/colon_enhanced.csv')\n",
    "hpa_df.head()"
   ]
  },
  {
   "cell_type": "code",
   "execution_count": 2,
   "metadata": {},
   "outputs": [
    {
     "data": {
      "text/html": [
       "<div>\n",
       "<style scoped>\n",
       "    .dataframe tbody tr th:only-of-type {\n",
       "        vertical-align: middle;\n",
       "    }\n",
       "\n",
       "    .dataframe tbody tr th {\n",
       "        vertical-align: top;\n",
       "    }\n",
       "\n",
       "    .dataframe thead th {\n",
       "        text-align: right;\n",
       "    }\n",
       "</style>\n",
       "<table border=\"1\" class=\"dataframe\">\n",
       "  <thead>\n",
       "    <tr style=\"text-align: right;\">\n",
       "      <th></th>\n",
       "      <th>MSH</th>\n",
       "      <th>ensembl_id</th>\n",
       "      <th>lApprovedUS.EU</th>\n",
       "      <th>Phase.Latest</th>\n",
       "      <th>First.Added</th>\n",
       "      <th>Inactive</th>\n",
       "      <th>symbol</th>\n",
       "    </tr>\n",
       "  </thead>\n",
       "  <tbody>\n",
       "    <tr>\n",
       "      <th>0</th>\n",
       "      <td>Abortion, Spontaneous</td>\n",
       "      <td>ENSG00000119535</td>\n",
       "      <td>False</td>\n",
       "      <td>unknown</td>\n",
       "      <td>NaN</td>\n",
       "      <td>True</td>\n",
       "      <td>CSF3R</td>\n",
       "    </tr>\n",
       "    <tr>\n",
       "      <th>1</th>\n",
       "      <td>Acidosis</td>\n",
       "      <td>ENSG00000151617</td>\n",
       "      <td>False</td>\n",
       "      <td>Phase I Clinical Trial</td>\n",
       "      <td>2012-10-27</td>\n",
       "      <td>False</td>\n",
       "      <td>EDNRA</td>\n",
       "    </tr>\n",
       "    <tr>\n",
       "      <th>2</th>\n",
       "      <td>Acne Vulgaris</td>\n",
       "      <td>ENSG00000012779</td>\n",
       "      <td>False</td>\n",
       "      <td>Phase II Clinical Trial</td>\n",
       "      <td>NaN</td>\n",
       "      <td>True</td>\n",
       "      <td>ALOX5</td>\n",
       "    </tr>\n",
       "    <tr>\n",
       "      <th>3</th>\n",
       "      <td>Acne Vulgaris</td>\n",
       "      <td>ENSG00000026508</td>\n",
       "      <td>False</td>\n",
       "      <td>Approved</td>\n",
       "      <td>NaN</td>\n",
       "      <td>False</td>\n",
       "      <td>CD44</td>\n",
       "    </tr>\n",
       "    <tr>\n",
       "      <th>4</th>\n",
       "      <td>Acne Vulgaris</td>\n",
       "      <td>ENSG00000057252</td>\n",
       "      <td>False</td>\n",
       "      <td>unknown</td>\n",
       "      <td>2009-07-01</td>\n",
       "      <td>True</td>\n",
       "      <td>SOAT1</td>\n",
       "    </tr>\n",
       "  </tbody>\n",
       "</table>\n",
       "</div>"
      ],
      "text/plain": [
       "                     MSH       ensembl_id  lApprovedUS.EU  \\\n",
       "0  Abortion, Spontaneous  ENSG00000119535           False   \n",
       "1               Acidosis  ENSG00000151617           False   \n",
       "2          Acne Vulgaris  ENSG00000012779           False   \n",
       "3          Acne Vulgaris  ENSG00000026508           False   \n",
       "4          Acne Vulgaris  ENSG00000057252           False   \n",
       "\n",
       "              Phase.Latest First.Added  Inactive symbol  \n",
       "0                  unknown         NaN      True  CSF3R  \n",
       "1   Phase I Clinical Trial  2012-10-27     False  EDNRA  \n",
       "2  Phase II Clinical Trial         NaN      True  ALOX5  \n",
       "3                 Approved         NaN     False   CD44  \n",
       "4                  unknown  2009-07-01      True  SOAT1  "
      ]
     },
     "execution_count": 2,
     "metadata": {},
     "output_type": "execute_result"
    }
   ],
   "source": [
    "target_df = pd.read_csv('target_indication.tsv', delimiter='\\t')\n",
    "target_df.head()"
   ]
  },
  {
   "cell_type": "code",
   "execution_count": 43,
   "metadata": {},
   "outputs": [],
   "source": [
    "colon_target_df = target_df[target_df['MSH']=='Colorectal Neoplasms']"
   ]
  },
  {
   "cell_type": "code",
   "execution_count": 109,
   "metadata": {},
   "outputs": [
    {
     "data": {
      "text/html": [
       "<div>\n",
       "<style scoped>\n",
       "    .dataframe tbody tr th:only-of-type {\n",
       "        vertical-align: middle;\n",
       "    }\n",
       "\n",
       "    .dataframe tbody tr th {\n",
       "        vertical-align: top;\n",
       "    }\n",
       "\n",
       "    .dataframe thead th {\n",
       "        text-align: right;\n",
       "    }\n",
       "</style>\n",
       "<table border=\"1\" class=\"dataframe\">\n",
       "  <thead>\n",
       "    <tr style=\"text-align: right;\">\n",
       "      <th></th>\n",
       "      <th>MSH</th>\n",
       "      <th>ensembl_id</th>\n",
       "      <th>lApprovedUS.EU</th>\n",
       "      <th>Phase.Latest</th>\n",
       "      <th>First.Added</th>\n",
       "      <th>Inactive</th>\n",
       "      <th>symbol</th>\n",
       "    </tr>\n",
       "  </thead>\n",
       "  <tbody>\n",
       "    <tr>\n",
       "      <th>5106</th>\n",
       "      <td>Colorectal Neoplasms</td>\n",
       "      <td>ENSG00000003402</td>\n",
       "      <td>False</td>\n",
       "      <td>Preclinical</td>\n",
       "      <td>2015-05-11</td>\n",
       "      <td>True</td>\n",
       "      <td>CFLAR</td>\n",
       "    </tr>\n",
       "    <tr>\n",
       "      <th>5108</th>\n",
       "      <td>Colorectal Neoplasms</td>\n",
       "      <td>ENSG00000006283</td>\n",
       "      <td>False</td>\n",
       "      <td>Preclinical</td>\n",
       "      <td>2009-02-12</td>\n",
       "      <td>True</td>\n",
       "      <td>CACNA1G</td>\n",
       "    </tr>\n",
       "    <tr>\n",
       "      <th>5109</th>\n",
       "      <td>Colorectal Neoplasms</td>\n",
       "      <td>ENSG00000006327</td>\n",
       "      <td>False</td>\n",
       "      <td>Phase I Clinical Trial</td>\n",
       "      <td>2008-03-17</td>\n",
       "      <td>True</td>\n",
       "      <td>TNFRSF12A</td>\n",
       "    </tr>\n",
       "    <tr>\n",
       "      <th>5111</th>\n",
       "      <td>Colorectal Neoplasms</td>\n",
       "      <td>ENSG00000007171</td>\n",
       "      <td>False</td>\n",
       "      <td>unknown</td>\n",
       "      <td>1993-06-15</td>\n",
       "      <td>True</td>\n",
       "      <td>NOS2</td>\n",
       "    </tr>\n",
       "    <tr>\n",
       "      <th>5116</th>\n",
       "      <td>Colorectal Neoplasms</td>\n",
       "      <td>ENSG00000011422</td>\n",
       "      <td>False</td>\n",
       "      <td>Preclinical</td>\n",
       "      <td>2005-04-26</td>\n",
       "      <td>True</td>\n",
       "      <td>PLAUR</td>\n",
       "    </tr>\n",
       "    <tr>\n",
       "      <th>...</th>\n",
       "      <td>...</td>\n",
       "      <td>...</td>\n",
       "      <td>...</td>\n",
       "      <td>...</td>\n",
       "      <td>...</td>\n",
       "      <td>...</td>\n",
       "      <td>...</td>\n",
       "    </tr>\n",
       "    <tr>\n",
       "      <th>5498</th>\n",
       "      <td>Colorectal Neoplasms</td>\n",
       "      <td>ENSG00000228716</td>\n",
       "      <td>False</td>\n",
       "      <td>Phase II Clinical Trial</td>\n",
       "      <td>1992-06-15</td>\n",
       "      <td>True</td>\n",
       "      <td>DHFR</td>\n",
       "    </tr>\n",
       "    <tr>\n",
       "      <th>5499</th>\n",
       "      <td>Colorectal Neoplasms</td>\n",
       "      <td>ENSG00000239732</td>\n",
       "      <td>False</td>\n",
       "      <td>Phase III Clinical Trial</td>\n",
       "      <td>2001-06-01</td>\n",
       "      <td>True</td>\n",
       "      <td>TLR9</td>\n",
       "    </tr>\n",
       "    <tr>\n",
       "      <th>5502</th>\n",
       "      <td>Colorectal Neoplasms</td>\n",
       "      <td>ENSG00000243955</td>\n",
       "      <td>False</td>\n",
       "      <td>Phase II Clinical Trial</td>\n",
       "      <td>1994-07-15</td>\n",
       "      <td>True</td>\n",
       "      <td>GSTA1</td>\n",
       "    </tr>\n",
       "    <tr>\n",
       "      <th>5505</th>\n",
       "      <td>Colorectal Neoplasms</td>\n",
       "      <td>ENSG00000259207</td>\n",
       "      <td>False</td>\n",
       "      <td>Phase II Clinical Trial</td>\n",
       "      <td>1995-01-15</td>\n",
       "      <td>True</td>\n",
       "      <td>ITGB3</td>\n",
       "    </tr>\n",
       "    <tr>\n",
       "      <th>5506</th>\n",
       "      <td>Colorectal Neoplasms</td>\n",
       "      <td>ENSG00000263761</td>\n",
       "      <td>False</td>\n",
       "      <td>unknown</td>\n",
       "      <td>2007-05-30</td>\n",
       "      <td>True</td>\n",
       "      <td>GDF2</td>\n",
       "    </tr>\n",
       "  </tbody>\n",
       "</table>\n",
       "<p>286 rows × 7 columns</p>\n",
       "</div>"
      ],
      "text/plain": [
       "                       MSH       ensembl_id  lApprovedUS.EU  \\\n",
       "5106  Colorectal Neoplasms  ENSG00000003402           False   \n",
       "5108  Colorectal Neoplasms  ENSG00000006283           False   \n",
       "5109  Colorectal Neoplasms  ENSG00000006327           False   \n",
       "5111  Colorectal Neoplasms  ENSG00000007171           False   \n",
       "5116  Colorectal Neoplasms  ENSG00000011422           False   \n",
       "...                    ...              ...             ...   \n",
       "5498  Colorectal Neoplasms  ENSG00000228716           False   \n",
       "5499  Colorectal Neoplasms  ENSG00000239732           False   \n",
       "5502  Colorectal Neoplasms  ENSG00000243955           False   \n",
       "5505  Colorectal Neoplasms  ENSG00000259207           False   \n",
       "5506  Colorectal Neoplasms  ENSG00000263761           False   \n",
       "\n",
       "                  Phase.Latest First.Added  Inactive     symbol  \n",
       "5106               Preclinical  2015-05-11      True      CFLAR  \n",
       "5108               Preclinical  2009-02-12      True    CACNA1G  \n",
       "5109    Phase I Clinical Trial  2008-03-17      True  TNFRSF12A  \n",
       "5111                   unknown  1993-06-15      True       NOS2  \n",
       "5116               Preclinical  2005-04-26      True      PLAUR  \n",
       "...                        ...         ...       ...        ...  \n",
       "5498   Phase II Clinical Trial  1992-06-15      True       DHFR  \n",
       "5499  Phase III Clinical Trial  2001-06-01      True       TLR9  \n",
       "5502   Phase II Clinical Trial  1994-07-15      True      GSTA1  \n",
       "5505   Phase II Clinical Trial  1995-01-15      True      ITGB3  \n",
       "5506                   unknown  2007-05-30      True       GDF2  \n",
       "\n",
       "[286 rows x 7 columns]"
      ]
     },
     "execution_count": 109,
     "metadata": {},
     "output_type": "execute_result"
    }
   ],
   "source": [
    "colon_target_df[colon_target_df['Inactive']==True]"
   ]
  },
  {
   "cell_type": "markdown",
   "metadata": {},
   "source": [
    "# Step 1\n",
    "## Summarize HPA annotation of subcellular localization change to gene level\n"
   ]
  },
  {
   "cell_type": "code",
   "execution_count": 4,
   "metadata": {},
   "outputs": [
    {
     "data": {
      "text/plain": [
       "array(['pathology_tissue', 'healthy_tissue'], dtype=object)"
      ]
     },
     "execution_count": 4,
     "metadata": {},
     "output_type": "execute_result"
    }
   ],
   "source": [
    "hpa_df['disease_status'] = hpa_df.apply(lambda row: row['s3_aws_urls'].split('/')[6], axis=1)\n",
    "hpa_df['disease_status'].unique()"
   ]
  },
  {
   "cell_type": "code",
   "execution_count": 19,
   "metadata": {},
   "outputs": [],
   "source": [
    "healthy_protein_loc = hpa_df[hpa_df['disease_status']=='healthy_tissue'].groupby(['gene', 'subcellular_location']).count().reset_index()[['gene', 'subcellular_location']]\n",
    "pathology_protein_loc = hpa_df[hpa_df['disease_status']=='pathology_tissue'].groupby(['gene', 'subcellular_location']).count().reset_index()[['gene', 'subcellular_location']]"
   ]
  },
  {
   "cell_type": "code",
   "execution_count": 33,
   "metadata": {},
   "outputs": [],
   "source": [
    "healthy_loc_dict = {}\n",
    "for gene, group in healthy_protein_loc.groupby('gene'):\n",
    "    healthy_loc_dict[gene] = group['subcellular_location'].to_list()\n",
    "\n",
    "pathology_loc_dict = {}\n",
    "for gene, group in hpa_df[hpa_df['disease_status']=='pathology_tissue'].groupby('gene'):\n",
    "    pathology_loc_dict[gene] = group['subcellular_location'].to_list()"
   ]
  },
  {
   "cell_type": "code",
   "execution_count": 34,
   "metadata": {},
   "outputs": [
    {
     "data": {
      "text/plain": [
       "['cytoplasmic/membranous,nuclear',\n",
       " 'none',\n",
       " 'none',\n",
       " 'none',\n",
       " 'none',\n",
       " 'none',\n",
       " 'none',\n",
       " 'none',\n",
       " 'cytoplasmic/membranous,nuclear',\n",
       " 'nuclear',\n",
       " 'none',\n",
       " 'nuclear',\n",
       " 'none',\n",
       " 'cytoplasmic/membranous,nuclear',\n",
       " 'none',\n",
       " 'cytoplasmic/membranous',\n",
       " 'nuclear',\n",
       " 'cytoplasmic/membranous,nuclear',\n",
       " 'cytoplasmic/membranous,nuclear']"
      ]
     },
     "execution_count": 34,
     "metadata": {},
     "output_type": "execute_result"
    }
   ],
   "source": [
    "pathology_loc_dict['A1CF']"
   ]
  },
  {
   "cell_type": "code",
   "execution_count": 38,
   "metadata": {},
   "outputs": [],
   "source": [
    "diff_list = []\n",
    "for gene in pathology_loc_dict.keys():\n",
    "    if not gene in healthy_loc_dict.keys():\n",
    "        continue\n",
    "    gene_dif_list = []\n",
    "    for loc in pathology_loc_dict[gene]:\n",
    "        if not loc in healthy_loc_dict[gene]:\n",
    "            gene_dif_list.append(loc)\n",
    "    diff_list.append([gene, healthy_loc_dict[gene], pathology_loc_dict[gene], gene_dif_list, len(gene_dif_list)/len(pathology_loc_dict[gene])])    \n",
    "            "
   ]
  },
  {
   "cell_type": "code",
   "execution_count": 40,
   "metadata": {},
   "outputs": [
    {
     "data": {
      "text/html": [
       "<div>\n",
       "<style scoped>\n",
       "    .dataframe tbody tr th:only-of-type {\n",
       "        vertical-align: middle;\n",
       "    }\n",
       "\n",
       "    .dataframe tbody tr th {\n",
       "        vertical-align: top;\n",
       "    }\n",
       "\n",
       "    .dataframe thead th {\n",
       "        text-align: right;\n",
       "    }\n",
       "</style>\n",
       "<table border=\"1\" class=\"dataframe\">\n",
       "  <thead>\n",
       "    <tr style=\"text-align: right;\">\n",
       "      <th></th>\n",
       "      <th>gene</th>\n",
       "      <th>healthy_loc</th>\n",
       "      <th>path_loc</th>\n",
       "      <th>diff_loc</th>\n",
       "      <th>fraction_diff</th>\n",
       "    </tr>\n",
       "  </thead>\n",
       "  <tbody>\n",
       "    <tr>\n",
       "      <th>0</th>\n",
       "      <td>A1CF</td>\n",
       "      <td>[cytoplasmic/membranous,nuclear]</td>\n",
       "      <td>[cytoplasmic/membranous,nuclear, none, none, n...</td>\n",
       "      <td>[none, none, none, none, none, none, none, nuc...</td>\n",
       "      <td>0.736842</td>\n",
       "    </tr>\n",
       "    <tr>\n",
       "      <th>1</th>\n",
       "      <td>A2ML1</td>\n",
       "      <td>[none]</td>\n",
       "      <td>[none, cytoplasmic/membranous, none, none, cyt...</td>\n",
       "      <td>[cytoplasmic/membranous, cytoplasmic/membranou...</td>\n",
       "      <td>0.190476</td>\n",
       "    </tr>\n",
       "    <tr>\n",
       "      <th>2</th>\n",
       "      <td>A4GNT</td>\n",
       "      <td>[none]</td>\n",
       "      <td>[none, none, none, none, none, none, nuclear, ...</td>\n",
       "      <td>[nuclear]</td>\n",
       "      <td>0.090909</td>\n",
       "    </tr>\n",
       "    <tr>\n",
       "      <th>3</th>\n",
       "      <td>AADAT</td>\n",
       "      <td>[cytoplasmic/membranous]</td>\n",
       "      <td>[none, none, none, none, none, none, none, none]</td>\n",
       "      <td>[none, none, none, none, none, none, none, none]</td>\n",
       "      <td>1.000000</td>\n",
       "    </tr>\n",
       "    <tr>\n",
       "      <th>4</th>\n",
       "      <td>AAK1</td>\n",
       "      <td>[none]</td>\n",
       "      <td>[none, none, none, none, none, none, none, non...</td>\n",
       "      <td>[]</td>\n",
       "      <td>0.000000</td>\n",
       "    </tr>\n",
       "  </tbody>\n",
       "</table>\n",
       "</div>"
      ],
      "text/plain": [
       "    gene                       healthy_loc  \\\n",
       "0   A1CF  [cytoplasmic/membranous,nuclear]   \n",
       "1  A2ML1                            [none]   \n",
       "2  A4GNT                            [none]   \n",
       "3  AADAT          [cytoplasmic/membranous]   \n",
       "4   AAK1                            [none]   \n",
       "\n",
       "                                            path_loc  \\\n",
       "0  [cytoplasmic/membranous,nuclear, none, none, n...   \n",
       "1  [none, cytoplasmic/membranous, none, none, cyt...   \n",
       "2  [none, none, none, none, none, none, nuclear, ...   \n",
       "3   [none, none, none, none, none, none, none, none]   \n",
       "4  [none, none, none, none, none, none, none, non...   \n",
       "\n",
       "                                            diff_loc  fraction_diff  \n",
       "0  [none, none, none, none, none, none, none, nuc...       0.736842  \n",
       "1  [cytoplasmic/membranous, cytoplasmic/membranou...       0.190476  \n",
       "2                                          [nuclear]       0.090909  \n",
       "3   [none, none, none, none, none, none, none, none]       1.000000  \n",
       "4                                                 []       0.000000  "
      ]
     },
     "execution_count": 40,
     "metadata": {},
     "output_type": "execute_result"
    }
   ],
   "source": [
    "diff_df = pd.DataFrame(diff_list, columns=['gene', 'healthy_loc', 'path_loc', 'diff_loc', 'fraction_diff'])\n",
    "diff_df.head()"
   ]
  },
  {
   "cell_type": "code",
   "execution_count": 60,
   "metadata": {},
   "outputs": [],
   "source": [
    "from evaluation import plot_roc_curve\n",
    "diff_df['is_drug_target'] = diff_df.apply(lambda row: 1 if row['gene'] in colon_target_df['symbol'].to_list() else 0, axis=1)\n",
    "diff_df['approved'] = diff_df.apply(lambda row: 1 if row['gene'] in colon_target_df[colon_target_df['lApprovedUS.EU']==True]['symbol'].to_list() else 0, axis=1)\n",
    "diff_df['active'] = diff_df.apply(lambda row: 1 if row['gene'] in colon_target_df[colon_target_df['Inactive']==False]['symbol'].to_list() else 0, axis=1)"
   ]
  },
  {
   "cell_type": "code",
   "execution_count": 50,
   "metadata": {},
   "outputs": [
    {
     "data": {
      "image/png": "[encoded data removed]",
      "text/plain": [
       "<Figure size 432x288 with 1 Axes>"
      ]
     },
     "metadata": {
      "needs_background": "light"
     },
     "output_type": "display_data"
    }
   ],
   "source": [
    "plot_roc_curve(diff_df['is_drug_target'], diff_df['fraction_diff'], 'HPA Annotation Predicting Drug Target ROC')"
   ]
  },
  {
   "cell_type": "code",
   "execution_count": 70,
   "metadata": {},
   "outputs": [
    {
     "data": {
      "image/png": "[encoded data removed]",
      "text/plain": [
       "<Figure size 432x288 with 1 Axes>"
      ]
     },
     "metadata": {
      "needs_background": "light"
     },
     "output_type": "display_data"
    }
   ],
   "source": [
    "plot_roc_curve(diff_df['approved'], diff_df['fraction_diff'], 'HPA Annotation Predicting Approved Target ROC')"
   ]
  },
  {
   "cell_type": "code",
   "execution_count": 68,
   "metadata": {},
   "outputs": [
    {
     "data": {
      "image/png": "[encoded data removed]",
      "text/plain": [
       "<Figure size 432x288 with 1 Axes>"
      ]
     },
     "metadata": {
      "needs_background": "light"
     },
     "output_type": "display_data"
    }
   ],
   "source": [
    "target_diff_df = diff_df[diff_df['is_drug_target']==1]\n",
    "plot_roc_curve(target_diff_df['active'], target_diff_df['fraction_diff'], 'HPA Annotation Predicting Active Target ROC')"
   ]
  },
  {
   "cell_type": "code",
   "execution_count": 80,
   "metadata": {},
   "outputs": [
    {
     "data": {
      "text/plain": [
       "288902"
      ]
     },
     "execution_count": 80,
     "metadata": {},
     "output_type": "execute_result"
    }
   ],
   "source": [
    "dist_df = pd.read_csv('all_inter_gene_pair_cdist.csv')\n",
    "dist_df['gene_a'] = dist_df.apply(lambda row: row['image_a'].split('/')[4], axis=1)\n",
    "dist_df['gene_b'] = dist_df.apply(lambda row: row['image_b'].split('/')[4], axis=1)\n",
    "dist_df['image_a_type'] = dist_df.apply(lambda row: row['image_a'].split('/')[6], axis=1)\n",
    "dist_df['image_b_type'] = dist_df.apply(lambda row: row['image_b'].split('/')[6], axis=1)\n",
    "dist_df = dist_df[dist_df['gene_a']==dist_df['gene_b']]\n",
    "dist_df = dist_df[dist_df['image_a_type']!=dist_df['image_b_type']]\n",
    "len(dist_df)"
   ]
  },
  {
   "cell_type": "code",
   "execution_count": 82,
   "metadata": {},
   "outputs": [],
   "source": [
    "dist_df['is_drug_target'] = dist_df.apply(lambda row: 1 if row['gene_a'] in colon_target_df['symbol'].to_list() else 0, axis=1)\n",
    "dist_df['approved'] = dist_df.apply(lambda row: 1 if row['gene_a'] in colon_target_df[colon_target_df['lApprovedUS.EU']==True]['symbol'].to_list() else 0, axis=1)\n",
    "dist_df['active'] = dist_df.apply(lambda row: 1 if row['gene_a'] in colon_target_df[colon_target_df['Inactive']==False]['symbol'].to_list() else 0, axis=1)"
   ]
  },
  {
   "cell_type": "code",
   "execution_count": 88,
   "metadata": {},
   "outputs": [
    {
     "data": {
      "image/png": "[encoded data removed]",
      "text/plain": [
       "<Figure size 432x288 with 1 Axes>"
      ]
     },
     "metadata": {
      "needs_background": "light"
     },
     "output_type": "display_data"
    }
   ],
   "source": [
    "plot_roc_curve(dist_df['is_drug_target'], dist_df['c_dist'], 'Image Distance Predicting Approved Target ROC')"
   ]
  },
  {
   "cell_type": "code",
   "execution_count": 86,
   "metadata": {},
   "outputs": [
    {
     "data": {
      "image/png": "[encoded data removed]",
      "text/plain": [
       "<Figure size 432x288 with 1 Axes>"
      ]
     },
     "metadata": {
      "needs_background": "light"
     },
     "output_type": "display_data"
    }
   ],
   "source": [
    "target_dist_df = dist_df[dist_df['is_drug_target']==1]\n",
    "plot_roc_curve(target_dist_df['approved'], target_dist_df['c_dist'], 'Image Distance Predicting Approved Target ROC')"
   ]
  },
  {
   "cell_type": "code",
   "execution_count": 90,
   "metadata": {},
   "outputs": [
    {
     "data": {
      "text/html": [
       "<div>\n",
       "<style scoped>\n",
       "    .dataframe tbody tr th:only-of-type {\n",
       "        vertical-align: middle;\n",
       "    }\n",
       "\n",
       "    .dataframe tbody tr th {\n",
       "        vertical-align: top;\n",
       "    }\n",
       "\n",
       "    .dataframe thead th {\n",
       "        text-align: right;\n",
       "    }\n",
       "</style>\n",
       "<table border=\"1\" class=\"dataframe\">\n",
       "  <thead>\n",
       "    <tr style=\"text-align: right;\">\n",
       "      <th></th>\n",
       "      <th>image_a</th>\n",
       "      <th>image_b</th>\n",
       "      <th>c_dist</th>\n",
       "      <th>image_a_staining</th>\n",
       "      <th>image_b_staining</th>\n",
       "      <th>image_a_annotation</th>\n",
       "      <th>image_b_annotation</th>\n",
       "      <th>expression_change</th>\n",
       "      <th>gene_a</th>\n",
       "      <th>gene_b</th>\n",
       "      <th>image_a_type</th>\n",
       "      <th>image_b_type</th>\n",
       "      <th>is_drug_target</th>\n",
       "      <th>approved</th>\n",
       "      <th>active</th>\n",
       "    </tr>\n",
       "  </thead>\n",
       "  <tbody>\n",
       "    <tr>\n",
       "      <th>369360</th>\n",
       "      <td>https://krzysztof-images.s3.amazonaws.com/hpa_...</td>\n",
       "      <td>https://krzysztof-images.s3.amazonaws.com/hpa_...</td>\n",
       "      <td>0.679099</td>\n",
       "      <td>Not detected</td>\n",
       "      <td>not detected</td>\n",
       "      <td>none</td>\n",
       "      <td>none</td>\n",
       "      <td>0</td>\n",
       "      <td>LTF</td>\n",
       "      <td>LTF</td>\n",
       "      <td>pathology_tissue</td>\n",
       "      <td>healthy_tissue</td>\n",
       "      <td>0</td>\n",
       "      <td>0</td>\n",
       "      <td>0</td>\n",
       "    </tr>\n",
       "    <tr>\n",
       "      <th>369279</th>\n",
       "      <td>https://krzysztof-images.s3.amazonaws.com/hpa_...</td>\n",
       "      <td>https://krzysztof-images.s3.amazonaws.com/hpa_...</td>\n",
       "      <td>0.679099</td>\n",
       "      <td>not detected</td>\n",
       "      <td>Not detected</td>\n",
       "      <td>none</td>\n",
       "      <td>none</td>\n",
       "      <td>0</td>\n",
       "      <td>LTF</td>\n",
       "      <td>LTF</td>\n",
       "      <td>healthy_tissue</td>\n",
       "      <td>pathology_tissue</td>\n",
       "      <td>0</td>\n",
       "      <td>0</td>\n",
       "      <td>0</td>\n",
       "    </tr>\n",
       "    <tr>\n",
       "      <th>403649</th>\n",
       "      <td>https://krzysztof-images.s3.amazonaws.com/hpa_...</td>\n",
       "      <td>https://krzysztof-images.s3.amazonaws.com/hpa_...</td>\n",
       "      <td>0.672579</td>\n",
       "      <td>not detected</td>\n",
       "      <td>Not detected</td>\n",
       "      <td>none</td>\n",
       "      <td>none</td>\n",
       "      <td>0</td>\n",
       "      <td>ACP5</td>\n",
       "      <td>ACP5</td>\n",
       "      <td>healthy_tissue</td>\n",
       "      <td>pathology_tissue</td>\n",
       "      <td>0</td>\n",
       "      <td>0</td>\n",
       "      <td>0</td>\n",
       "    </tr>\n",
       "    <tr>\n",
       "      <th>403730</th>\n",
       "      <td>https://krzysztof-images.s3.amazonaws.com/hpa_...</td>\n",
       "      <td>https://krzysztof-images.s3.amazonaws.com/hpa_...</td>\n",
       "      <td>0.672579</td>\n",
       "      <td>Not detected</td>\n",
       "      <td>not detected</td>\n",
       "      <td>none</td>\n",
       "      <td>none</td>\n",
       "      <td>0</td>\n",
       "      <td>ACP5</td>\n",
       "      <td>ACP5</td>\n",
       "      <td>pathology_tissue</td>\n",
       "      <td>healthy_tissue</td>\n",
       "      <td>0</td>\n",
       "      <td>0</td>\n",
       "      <td>0</td>\n",
       "    </tr>\n",
       "    <tr>\n",
       "      <th>555856</th>\n",
       "      <td>https://krzysztof-images.s3.amazonaws.com/hpa_...</td>\n",
       "      <td>https://krzysztof-images.s3.amazonaws.com/hpa_...</td>\n",
       "      <td>0.668927</td>\n",
       "      <td>Not detected</td>\n",
       "      <td>not detected</td>\n",
       "      <td>none</td>\n",
       "      <td>none</td>\n",
       "      <td>0</td>\n",
       "      <td>TEX44</td>\n",
       "      <td>TEX44</td>\n",
       "      <td>pathology_tissue</td>\n",
       "      <td>healthy_tissue</td>\n",
       "      <td>0</td>\n",
       "      <td>0</td>\n",
       "      <td>0</td>\n",
       "    </tr>\n",
       "    <tr>\n",
       "      <th>555792</th>\n",
       "      <td>https://krzysztof-images.s3.amazonaws.com/hpa_...</td>\n",
       "      <td>https://krzysztof-images.s3.amazonaws.com/hpa_...</td>\n",
       "      <td>0.668927</td>\n",
       "      <td>not detected</td>\n",
       "      <td>Not detected</td>\n",
       "      <td>none</td>\n",
       "      <td>none</td>\n",
       "      <td>0</td>\n",
       "      <td>TEX44</td>\n",
       "      <td>TEX44</td>\n",
       "      <td>healthy_tissue</td>\n",
       "      <td>pathology_tissue</td>\n",
       "      <td>0</td>\n",
       "      <td>0</td>\n",
       "      <td>0</td>\n",
       "    </tr>\n",
       "    <tr>\n",
       "      <th>403650</th>\n",
       "      <td>https://krzysztof-images.s3.amazonaws.com/hpa_...</td>\n",
       "      <td>https://krzysztof-images.s3.amazonaws.com/hpa_...</td>\n",
       "      <td>0.664219</td>\n",
       "      <td>not detected</td>\n",
       "      <td>Not detected</td>\n",
       "      <td>none</td>\n",
       "      <td>none</td>\n",
       "      <td>0</td>\n",
       "      <td>ACP5</td>\n",
       "      <td>ACP5</td>\n",
       "      <td>healthy_tissue</td>\n",
       "      <td>pathology_tissue</td>\n",
       "      <td>0</td>\n",
       "      <td>0</td>\n",
       "      <td>0</td>\n",
       "    </tr>\n",
       "    <tr>\n",
       "      <th>403741</th>\n",
       "      <td>https://krzysztof-images.s3.amazonaws.com/hpa_...</td>\n",
       "      <td>https://krzysztof-images.s3.amazonaws.com/hpa_...</td>\n",
       "      <td>0.664219</td>\n",
       "      <td>Not detected</td>\n",
       "      <td>not detected</td>\n",
       "      <td>none</td>\n",
       "      <td>none</td>\n",
       "      <td>0</td>\n",
       "      <td>ACP5</td>\n",
       "      <td>ACP5</td>\n",
       "      <td>pathology_tissue</td>\n",
       "      <td>healthy_tissue</td>\n",
       "      <td>0</td>\n",
       "      <td>0</td>\n",
       "      <td>0</td>\n",
       "    </tr>\n",
       "    <tr>\n",
       "      <th>369371</th>\n",
       "      <td>https://krzysztof-images.s3.amazonaws.com/hpa_...</td>\n",
       "      <td>https://krzysztof-images.s3.amazonaws.com/hpa_...</td>\n",
       "      <td>0.663228</td>\n",
       "      <td>Not detected</td>\n",
       "      <td>not detected</td>\n",
       "      <td>none</td>\n",
       "      <td>none</td>\n",
       "      <td>0</td>\n",
       "      <td>LTF</td>\n",
       "      <td>LTF</td>\n",
       "      <td>pathology_tissue</td>\n",
       "      <td>healthy_tissue</td>\n",
       "      <td>0</td>\n",
       "      <td>0</td>\n",
       "      <td>0</td>\n",
       "    </tr>\n",
       "    <tr>\n",
       "      <th>369280</th>\n",
       "      <td>https://krzysztof-images.s3.amazonaws.com/hpa_...</td>\n",
       "      <td>https://krzysztof-images.s3.amazonaws.com/hpa_...</td>\n",
       "      <td>0.663228</td>\n",
       "      <td>not detected</td>\n",
       "      <td>Not detected</td>\n",
       "      <td>none</td>\n",
       "      <td>none</td>\n",
       "      <td>0</td>\n",
       "      <td>LTF</td>\n",
       "      <td>LTF</td>\n",
       "      <td>healthy_tissue</td>\n",
       "      <td>pathology_tissue</td>\n",
       "      <td>0</td>\n",
       "      <td>0</td>\n",
       "      <td>0</td>\n",
       "    </tr>\n",
       "  </tbody>\n",
       "</table>\n",
       "</div>"
      ],
      "text/plain": [
       "                                                  image_a  \\\n",
       "369360  https://krzysztof-images.s3.amazonaws.com/hpa_...   \n",
       "369279  https://krzysztof-images.s3.amazonaws.com/hpa_...   \n",
       "403649  https://krzysztof-images.s3.amazonaws.com/hpa_...   \n",
       "403730  https://krzysztof-images.s3.amazonaws.com/hpa_...   \n",
       "555856  https://krzysztof-images.s3.amazonaws.com/hpa_...   \n",
       "555792  https://krzysztof-images.s3.amazonaws.com/hpa_...   \n",
       "403650  https://krzysztof-images.s3.amazonaws.com/hpa_...   \n",
       "403741  https://krzysztof-images.s3.amazonaws.com/hpa_...   \n",
       "369371  https://krzysztof-images.s3.amazonaws.com/hpa_...   \n",
       "369280  https://krzysztof-images.s3.amazonaws.com/hpa_...   \n",
       "\n",
       "                                                  image_b    c_dist  \\\n",
       "369360  https://krzysztof-images.s3.amazonaws.com/hpa_...  0.679099   \n",
       "369279  https://krzysztof-images.s3.amazonaws.com/hpa_...  0.679099   \n",
       "403649  https://krzysztof-images.s3.amazonaws.com/hpa_...  0.672579   \n",
       "403730  https://krzysztof-images.s3.amazonaws.com/hpa_...  0.672579   \n",
       "555856  https://krzysztof-images.s3.amazonaws.com/hpa_...  0.668927   \n",
       "555792  https://krzysztof-images.s3.amazonaws.com/hpa_...  0.668927   \n",
       "403650  https://krzysztof-images.s3.amazonaws.com/hpa_...  0.664219   \n",
       "403741  https://krzysztof-images.s3.amazonaws.com/hpa_...  0.664219   \n",
       "369371  https://krzysztof-images.s3.amazonaws.com/hpa_...  0.663228   \n",
       "369280  https://krzysztof-images.s3.amazonaws.com/hpa_...  0.663228   \n",
       "\n",
       "       image_a_staining image_b_staining image_a_annotation  \\\n",
       "369360     Not detected     not detected               none   \n",
       "369279     not detected     Not detected               none   \n",
       "403649     not detected     Not detected               none   \n",
       "403730     Not detected     not detected               none   \n",
       "555856     Not detected     not detected               none   \n",
       "555792     not detected     Not detected               none   \n",
       "403650     not detected     Not detected               none   \n",
       "403741     Not detected     not detected               none   \n",
       "369371     Not detected     not detected               none   \n",
       "369280     not detected     Not detected               none   \n",
       "\n",
       "       image_b_annotation  expression_change gene_a gene_b      image_a_type  \\\n",
       "369360               none                  0    LTF    LTF  pathology_tissue   \n",
       "369279               none                  0    LTF    LTF    healthy_tissue   \n",
       "403649               none                  0   ACP5   ACP5    healthy_tissue   \n",
       "403730               none                  0   ACP5   ACP5  pathology_tissue   \n",
       "555856               none                  0  TEX44  TEX44  pathology_tissue   \n",
       "555792               none                  0  TEX44  TEX44    healthy_tissue   \n",
       "403650               none                  0   ACP5   ACP5    healthy_tissue   \n",
       "403741               none                  0   ACP5   ACP5  pathology_tissue   \n",
       "369371               none                  0    LTF    LTF  pathology_tissue   \n",
       "369280               none                  0    LTF    LTF    healthy_tissue   \n",
       "\n",
       "            image_b_type  is_drug_target  approved  active  \n",
       "369360    healthy_tissue               0         0       0  \n",
       "369279  pathology_tissue               0         0       0  \n",
       "403649  pathology_tissue               0         0       0  \n",
       "403730    healthy_tissue               0         0       0  \n",
       "555856    healthy_tissue               0         0       0  \n",
       "555792  pathology_tissue               0         0       0  \n",
       "403650  pathology_tissue               0         0       0  \n",
       "403741    healthy_tissue               0         0       0  \n",
       "369371    healthy_tissue               0         0       0  \n",
       "369280  pathology_tissue               0         0       0  "
      ]
     },
     "execution_count": 90,
     "metadata": {},
     "output_type": "execute_result"
    }
   ],
   "source": [
    "dist_df.sort_values('c_dist', ascending=False).head(10)"
   ]
  },
  {
   "cell_type": "code",
   "execution_count": 104,
   "metadata": {},
   "outputs": [
    {
     "data": {
      "text/plain": [
       "array([[<matplotlib.axes._subplots.AxesSubplot object at 0x7f6838ab0f50>,\n",
       "        <matplotlib.axes._subplots.AxesSubplot object at 0x7f6838b65510>,\n",
       "        <matplotlib.axes._subplots.AxesSubplot object at 0x7f6838b5aa10>],\n",
       "       [<matplotlib.axes._subplots.AxesSubplot object at 0x7f6838b508d0>,\n",
       "        <matplotlib.axes._subplots.AxesSubplot object at 0x7f6838b45050>,\n",
       "        <matplotlib.axes._subplots.AxesSubplot object at 0x7f6838b3b890>],\n",
       "       [<matplotlib.axes._subplots.AxesSubplot object at 0x7f6838b30d50>,\n",
       "        <matplotlib.axes._subplots.AxesSubplot object at 0x7f6838ba66d0>,\n",
       "        <matplotlib.axes._subplots.AxesSubplot object at 0x7f6838ba4c10>]],\n",
       "      dtype=object)"
      ]
     },
     "execution_count": 104,
     "metadata": {},
     "output_type": "execute_result"
    },
    {
     "data": {
      "image/png": "[encoded data removed]",
      "text/plain": [
       "<Figure size 1440x1440 with 9 Axes>"
      ]
     },
     "metadata": {
      "needs_background": "light"
     },
     "output_type": "display_data"
    }
   ],
   "source": [
    "import matplotlib.pyplot as plt\n",
    "dist_df[dist_df['approved']==1].hist('c_dist', by='gene_a', figsize=(20, 20))"
   ]
  },
  {
   "cell_type": "code",
   "execution_count": 100,
   "metadata": {},
   "outputs": [
    {
     "data": {
      "text/plain": [
       "array([[<matplotlib.axes._subplots.AxesSubplot object at 0x7f6838a62990>]],\n",
       "      dtype=object)"
      ]
     },
     "execution_count": 100,
     "metadata": {},
     "output_type": "execute_result"
    },
    {
     "data": {
      "image/png": "[encoded data removed]",
      "text/plain": [
       "<Figure size 432x288 with 1 Axes>"
      ]
     },
     "metadata": {
      "needs_background": "light"
     },
     "output_type": "display_data"
    }
   ],
   "source": [
    "dist_df[dist_df['active']!=1].hist('c_dist')"
   ]
  },
  {
   "cell_type": "code",
   "execution_count": 103,
   "metadata": {},
   "outputs": [
    {
     "data": {
      "text/plain": [
       "array([[<matplotlib.axes._subplots.AxesSubplot object at 0x7f6838b26ad0>]],\n",
       "      dtype=object)"
      ]
     },
     "execution_count": 103,
     "metadata": {},
     "output_type": "execute_result"
    },
    {
     "data": {
      "image/png": "[encoded data removed]",
      "text/plain": [
       "<Figure size 432x288 with 1 Axes>"
      ]
     },
     "metadata": {
      "needs_background": "light"
     },
     "output_type": "display_data"
    }
   ],
   "source": [
    "dist_df[dist_df['active']==1].hist('c_dist')"
   ]
  },
  {
   "cell_type": "code",
   "execution_count": 102,
   "metadata": {},
   "outputs": [
    {
     "data": {
      "text/plain": [
       "0.1554069051944111"
      ]
     },
     "execution_count": 102,
     "metadata": {},
     "output_type": "execute_result"
    }
   ],
   "source": [
    "dist_df[dist_df['active']==1]['c_dist'].mean()"
   ]
  },
  {
   "cell_type": "code",
   "execution_count": 101,
   "metadata": {},
   "outputs": [
    {
     "data": {
      "text/plain": [
       "0.15343585352955946"
      ]
     },
     "execution_count": 101,
     "metadata": {},
     "output_type": "execute_result"
    }
   ],
   "source": [
    "dist_df[dist_df['active']!=1]['c_dist'].mean()"
   ]
  }
 ],
 "metadata": {
  "kernelspec": {
   "display_name": "Python 3",
   "language": "python",
   "name": "python3"
  },
  "language_info": {
   "codemirror_mode": {
    "name": "ipython",
    "version": 3
   },
   "file_extension": ".py",
   "mimetype": "text/x-python",
   "name": "python",
   "nbconvert_exporter": "python",
   "pygments_lexer": "ipython3",
   "version": "3.7.7"
  }
 },
 "nbformat": 4,
 "nbformat_minor": 4
}
