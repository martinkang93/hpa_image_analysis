{
 "cells": [
  {
   "cell_type": "markdown",
   "metadata": {},
   "source": [
    "# Pymongo usage and demo\n",
    "\n",
    "set up pymongo and run queries to gather the latest round of annotation data from the proteins app"
   ]
  },
  {
   "cell_type": "markdown",
   "metadata": {},
   "source": [
    "# Authentication  \n",
    "enter password, execute, and then clear cell (to not have pw saved)\n",
    "\n",
    "Must use SCRAM-SHA-1 mechanism, by default is SCRAM-SHA-256.  I think this makes it so that using a un/pw encoded CONN_ADDRESS is insufficient and I must use parameters for the constructor `pymongo.MongoClient()`"
   ]
  },
  {
   "cell_type": "code",
   "execution_count": 13,
   "metadata": {},
   "outputs": [
    {
     "data": {
      "text/plain": [
       "''"
      ]
     },
     "execution_count": 13,
     "metadata": {},
     "output_type": "execute_result"
    }
   ],
   "source": [
    "#!#!#!#! THIS WILL NOT EXECUTE IF SECRET NOT SAVED (WHICH IT SHOULD NOT BE)\n",
    "# Enter string value of secret, run, and revert\n",
    "SECRET = \"\"\n",
    "SECRET"
   ]
  },
  {
   "cell_type": "markdown",
   "metadata": {},
   "source": [
    "# Install pymongo"
   ]
  },
  {
   "cell_type": "code",
   "execution_count": 2,
   "metadata": {},
   "outputs": [
    {
     "name": "stdout",
     "output_type": "stream",
     "text": [
      "Requirement already satisfied: pymongo in /opt/conda/lib/python3.6/site-packages (3.10.1)\r\n"
     ]
    }
   ],
   "source": [
    "!pip install pymongo"
   ]
  },
  {
   "cell_type": "code",
   "execution_count": 3,
   "metadata": {},
   "outputs": [
    {
     "name": "stdout",
     "output_type": "stream",
     "text": [
      "3.10.1\r\n",
      "True\r\n"
     ]
    }
   ],
   "source": [
    "!python -c \"import pymongo; print(pymongo.version); print(pymongo.has_c())\""
   ]
  },
  {
   "cell_type": "markdown",
   "metadata": {},
   "source": [
    "# Script\n"
   ]
  },
  {
   "cell_type": "code",
   "execution_count": 4,
   "metadata": {},
   "outputs": [],
   "source": [
    "import pandas as pd\n",
    "import urllib\n",
    "import pymongo"
   ]
  },
  {
   "cell_type": "code",
   "execution_count": 5,
   "metadata": {},
   "outputs": [],
   "source": [
    "CONN_ADDRESS = \"mongodb://mongo.servers.nferx.com\"\n",
    "CONN_PORT = 27017"
   ]
  },
  {
   "cell_type": "markdown",
   "metadata": {},
   "source": [
    "3. Set up MongoDB client to manage session and queries"
   ]
  },
  {
   "cell_type": "code",
   "execution_count": 6,
   "metadata": {},
   "outputs": [
    {
     "data": {
      "text/plain": [
       "MongoClient(host=['mongo.servers.nferx.com:27017'], document_class=dict, tz_aware=False, connect=True, authmechanism='SCRAM-SHA-1')"
      ]
     },
     "execution_count": 6,
     "metadata": {},
     "output_type": "execute_result"
    }
   ],
   "source": [
    "client = pymongo.MongoClient(CONN_ADDRESS, CONN_PORT, username = 'marcus', password = SECRET, authMechanism='SCRAM-SHA-1')\n",
    "client"
   ]
  },
  {
   "cell_type": "markdown",
   "metadata": {},
   "source": [
    "the annotation data is in:\n",
    "\n",
    "| group | value |\n",
    "| ---- | ---- |\n",
    "| database | protein_app_test_db |\n",
    "| collection | image_annotation_user_input_data |"
   ]
  },
  {
   "cell_type": "code",
   "execution_count": 7,
   "metadata": {},
   "outputs": [
    {
     "data": {
      "text/plain": [
       "Collection(Database(MongoClient(host=['mongo.servers.nferx.com:27017'], document_class=dict, tz_aware=False, connect=True, authmechanism='SCRAM-SHA-1'), 'protein_app_test_db'), 'image_annotation_user_input_data')"
      ]
     },
     "execution_count": 7,
     "metadata": {},
     "output_type": "execute_result"
    }
   ],
   "source": [
    "db = client.protein_app_test_db\n",
    "col = db.image_annotation_user_input_data\n",
    "col"
   ]
  },
  {
   "cell_type": "code",
   "execution_count": 8,
   "metadata": {},
   "outputs": [
    {
     "data": {
      "text/plain": [
       "{'_id': ObjectId('5db8a871b2c03022694a0724'),\n",
       " 'file_name': 'https://krzysztof-images.s3.amazonaws.com/hpa_images/AKAP9/HPA008548/healthy_tissue/stomach_1/hpa_patient_2583/23972_A_4_1.jpg',\n",
       " 'user_email': 'yingchun.lo.5@gmail.com',\n",
       " 'apical_status': 'no-apical',\n",
       " 'createdAt': '2019-10-29 21:00:33',\n",
       " 'text_comments': ''}"
      ]
     },
     "execution_count": 8,
     "metadata": {},
     "output_type": "execute_result"
    }
   ],
   "source": [
    "col.find_one()"
   ]
  },
  {
   "cell_type": "markdown",
   "metadata": {},
   "source": [
    "## Convert entire collection to pandas dataframe"
   ]
  },
  {
   "cell_type": "code",
   "execution_count": 11,
   "metadata": {},
   "outputs": [],
   "source": [
    "#! Takes ~10s to execute\n",
    "anno_df = pd.DataFrame(list(col.find()))"
   ]
  },
  {
   "cell_type": "code",
   "execution_count": 12,
   "metadata": {},
   "outputs": [
    {
     "data": {
      "text/html": [
       "<div>\n",
       "<style scoped>\n",
       "    .dataframe tbody tr th:only-of-type {\n",
       "        vertical-align: middle;\n",
       "    }\n",
       "\n",
       "    .dataframe tbody tr th {\n",
       "        vertical-align: top;\n",
       "    }\n",
       "\n",
       "    .dataframe thead th {\n",
       "        text-align: right;\n",
       "    }\n",
       "</style>\n",
       "<table border=\"1\" class=\"dataframe\">\n",
       "  <thead>\n",
       "    <tr style=\"text-align: right;\">\n",
       "      <th></th>\n",
       "      <th>_id</th>\n",
       "      <th>file_name</th>\n",
       "      <th>user_email</th>\n",
       "      <th>apical_status</th>\n",
       "      <th>createdAt</th>\n",
       "      <th>text_comments</th>\n",
       "      <th>dataset_version</th>\n",
       "    </tr>\n",
       "  </thead>\n",
       "  <tbody>\n",
       "    <tr>\n",
       "      <th>0</th>\n",
       "      <td>5db8a871b2c03022694a0724</td>\n",
       "      <td>https://krzysztof-images.s3.amazonaws.com/hpa_...</td>\n",
       "      <td>yingchun.lo.5@gmail.com</td>\n",
       "      <td>no-apical</td>\n",
       "      <td>2019-10-29 21:00:33</td>\n",
       "      <td></td>\n",
       "      <td>NaN</td>\n",
       "    </tr>\n",
       "    <tr>\n",
       "      <th>1</th>\n",
       "      <td>5db8a92fb2c030226c4a072d</td>\n",
       "      <td>https://krzysztof-images.s3.amazonaws.com/hpa_...</td>\n",
       "      <td>yingchun.lo.5@gmail.com</td>\n",
       "      <td>mostly-non-apical</td>\n",
       "      <td>2019-10-29 21:03:43</td>\n",
       "      <td>2 kinds of tissue, surface and deeper glands</td>\n",
       "      <td>NaN</td>\n",
       "    </tr>\n",
       "    <tr>\n",
       "      <th>2</th>\n",
       "      <td>5db8a9c3b2c030226b4a0729</td>\n",
       "      <td>https://krzysztof-images.s3.amazonaws.com/hpa_...</td>\n",
       "      <td>yingchun.lo.5@gmail.com</td>\n",
       "      <td>mostly-non-apical</td>\n",
       "      <td>2019-10-29 21:06:11</td>\n",
       "      <td></td>\n",
       "      <td>NaN</td>\n",
       "    </tr>\n",
       "    <tr>\n",
       "      <th>3</th>\n",
       "      <td>5db8aaedb2c030226c4a0739</td>\n",
       "      <td>https://krzysztof-images.s3.amazonaws.com/hpa_...</td>\n",
       "      <td>yingchun.lo.5@gmail.com</td>\n",
       "      <td>mostly-non-apical</td>\n",
       "      <td>2019-10-29 21:11:09</td>\n",
       "      <td>Predominantly nuclear stain with some apical b...</td>\n",
       "      <td>NaN</td>\n",
       "    </tr>\n",
       "    <tr>\n",
       "      <th>4</th>\n",
       "      <td>5db8ace3b2c030226c4a074b</td>\n",
       "      <td>https://krzysztof-images.s3.amazonaws.com/hpa_...</td>\n",
       "      <td>yingchun.lo.5@gmail.com</td>\n",
       "      <td>mostly-non-apical</td>\n",
       "      <td>2019-10-29 21:19:31</td>\n",
       "      <td></td>\n",
       "      <td>NaN</td>\n",
       "    </tr>\n",
       "    <tr>\n",
       "      <th>...</th>\n",
       "      <td>...</td>\n",
       "      <td>...</td>\n",
       "      <td>...</td>\n",
       "      <td>...</td>\n",
       "      <td>...</td>\n",
       "      <td>...</td>\n",
       "      <td>...</td>\n",
       "    </tr>\n",
       "    <tr>\n",
       "      <th>5785</th>\n",
       "      <td>5e9bb125e42dc951f48187eb</td>\n",
       "      <td>https://krzysztof-images.s3.amazonaws.com/hpa_...</td>\n",
       "      <td>yingchun.lo.5@gmail.com</td>\n",
       "      <td>grading-moderate-diff</td>\n",
       "      <td>2020-04-19 02:02:13</td>\n",
       "      <td></td>\n",
       "      <td>NaN</td>\n",
       "    </tr>\n",
       "    <tr>\n",
       "      <th>5786</th>\n",
       "      <td>5e9bb166e42dc951f48187ed</td>\n",
       "      <td>https://krzysztof-images.s3.amazonaws.com/hpa_...</td>\n",
       "      <td>yingchun.lo.5@gmail.com</td>\n",
       "      <td>grading-moderate-diff</td>\n",
       "      <td>2020-04-19 02:03:18</td>\n",
       "      <td></td>\n",
       "      <td>NaN</td>\n",
       "    </tr>\n",
       "    <tr>\n",
       "      <th>5787</th>\n",
       "      <td>5e9bb19108aa7c45de818810</td>\n",
       "      <td>https://krzysztof-images.s3.amazonaws.com/hpa_...</td>\n",
       "      <td>yingchun.lo.5@gmail.com</td>\n",
       "      <td>grading-moderate-diff</td>\n",
       "      <td>2020-04-19 02:04:01</td>\n",
       "      <td></td>\n",
       "      <td>NaN</td>\n",
       "    </tr>\n",
       "    <tr>\n",
       "      <th>5788</th>\n",
       "      <td>5e9bb1ec537048485d8187f8</td>\n",
       "      <td>https://krzysztof-images.s3.amazonaws.com/hpa_...</td>\n",
       "      <td>yingchun.lo.5@gmail.com</td>\n",
       "      <td>grading-moderate-diff</td>\n",
       "      <td>2020-04-19 02:05:32</td>\n",
       "      <td></td>\n",
       "      <td>NaN</td>\n",
       "    </tr>\n",
       "    <tr>\n",
       "      <th>5789</th>\n",
       "      <td>5e9bb33ae42dc951f48187f3</td>\n",
       "      <td>https://krzysztof-images.s3.amazonaws.com/hpa_...</td>\n",
       "      <td>yingchun.lo.5@gmail.com</td>\n",
       "      <td>grading-moderate-diff</td>\n",
       "      <td>2020-04-19 02:11:06</td>\n",
       "      <td></td>\n",
       "      <td>NaN</td>\n",
       "    </tr>\n",
       "  </tbody>\n",
       "</table>\n",
       "<p>5790 rows × 7 columns</p>\n",
       "</div>"
      ],
      "text/plain": [
       "                           _id  \\\n",
       "0     5db8a871b2c03022694a0724   \n",
       "1     5db8a92fb2c030226c4a072d   \n",
       "2     5db8a9c3b2c030226b4a0729   \n",
       "3     5db8aaedb2c030226c4a0739   \n",
       "4     5db8ace3b2c030226c4a074b   \n",
       "...                        ...   \n",
       "5785  5e9bb125e42dc951f48187eb   \n",
       "5786  5e9bb166e42dc951f48187ed   \n",
       "5787  5e9bb19108aa7c45de818810   \n",
       "5788  5e9bb1ec537048485d8187f8   \n",
       "5789  5e9bb33ae42dc951f48187f3   \n",
       "\n",
       "                                              file_name  \\\n",
       "0     https://krzysztof-images.s3.amazonaws.com/hpa_...   \n",
       "1     https://krzysztof-images.s3.amazonaws.com/hpa_...   \n",
       "2     https://krzysztof-images.s3.amazonaws.com/hpa_...   \n",
       "3     https://krzysztof-images.s3.amazonaws.com/hpa_...   \n",
       "4     https://krzysztof-images.s3.amazonaws.com/hpa_...   \n",
       "...                                                 ...   \n",
       "5785  https://krzysztof-images.s3.amazonaws.com/hpa_...   \n",
       "5786  https://krzysztof-images.s3.amazonaws.com/hpa_...   \n",
       "5787  https://krzysztof-images.s3.amazonaws.com/hpa_...   \n",
       "5788  https://krzysztof-images.s3.amazonaws.com/hpa_...   \n",
       "5789  https://krzysztof-images.s3.amazonaws.com/hpa_...   \n",
       "\n",
       "                   user_email          apical_status            createdAt  \\\n",
       "0     yingchun.lo.5@gmail.com              no-apical  2019-10-29 21:00:33   \n",
       "1     yingchun.lo.5@gmail.com      mostly-non-apical  2019-10-29 21:03:43   \n",
       "2     yingchun.lo.5@gmail.com      mostly-non-apical  2019-10-29 21:06:11   \n",
       "3     yingchun.lo.5@gmail.com      mostly-non-apical  2019-10-29 21:11:09   \n",
       "4     yingchun.lo.5@gmail.com      mostly-non-apical  2019-10-29 21:19:31   \n",
       "...                       ...                    ...                  ...   \n",
       "5785  yingchun.lo.5@gmail.com  grading-moderate-diff  2020-04-19 02:02:13   \n",
       "5786  yingchun.lo.5@gmail.com  grading-moderate-diff  2020-04-19 02:03:18   \n",
       "5787  yingchun.lo.5@gmail.com  grading-moderate-diff  2020-04-19 02:04:01   \n",
       "5788  yingchun.lo.5@gmail.com  grading-moderate-diff  2020-04-19 02:05:32   \n",
       "5789  yingchun.lo.5@gmail.com  grading-moderate-diff  2020-04-19 02:11:06   \n",
       "\n",
       "                                          text_comments dataset_version  \n",
       "0                                                                   NaN  \n",
       "1          2 kinds of tissue, surface and deeper glands             NaN  \n",
       "2                                                                   NaN  \n",
       "3     Predominantly nuclear stain with some apical b...             NaN  \n",
       "4                                                                   NaN  \n",
       "...                                                 ...             ...  \n",
       "5785                                                                NaN  \n",
       "5786                                                                NaN  \n",
       "5787                                                                NaN  \n",
       "5788                                                                NaN  \n",
       "5789                                                                NaN  \n",
       "\n",
       "[5790 rows x 7 columns]"
      ]
     },
     "execution_count": 12,
     "metadata": {},
     "output_type": "execute_result"
    }
   ],
   "source": [
    "anno_df"
   ]
  }
 ],
 "metadata": {
  "kernelspec": {
   "display_name": "Python 3",
   "language": "python",
   "name": "python3"
  },
  "language_info": {
   "codemirror_mode": {
    "name": "ipython",
    "version": 3
   },
   "file_extension": ".py",
   "mimetype": "text/x-python",
   "name": "python",
   "nbconvert_exporter": "python",
   "pygments_lexer": "ipython3",
   "version": "3.6.3"
  }
 },
 "nbformat": 4,
 "nbformat_minor": 4
}
